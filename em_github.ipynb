{
  "nbformat": 4,
  "nbformat_minor": 0,
  "metadata": {
    "kernelspec": {
      "display_name": "Python 3",
      "language": "python",
      "name": "python3"
    },
    "language_info": {
      "codemirror_mode": {
        "name": "ipython",
        "version": 3
      },
      "file_extension": ".py",
      "mimetype": "text/x-python",
      "name": "python",
      "nbconvert_exporter": "python",
      "pygments_lexer": "ipython3",
      "version": "3.8.5"
    },
    "colab": {
      "name": "em-github.ipynb",
      "provenance": [],
      "collapsed_sections": [],
      "toc_visible": true
    }
  },
  "cells": [
    {
      "cell_type": "markdown",
      "metadata": {
        "id": "v1F87mCvEslR"
      },
      "source": [
        "# Statistical translation with EM algorithm"
      ]
    },
    {
      "cell_type": "markdown",
      "metadata": {
        "id": "_ylY2Yu1afa7"
      },
      "source": [
        "## Imports"
      ]
    },
    {
      "cell_type": "code",
      "metadata": {
        "id": "fDS1czUzaThB"
      },
      "source": [
        "from scipy.stats import mode\n",
        "from sklearn.metrics import accuracy_score\n",
        "from scipy.special import softmax\n",
        "import matplotlib.pyplot as plt\n",
        "import numpy as np\n",
        "import seaborn as sns\n",
        "import sys, os\n",
        "import glob\n",
        "#from time import time\n",
        "\n",
        "%matplotlib inline\n",
        "%load_ext autoreload"
      ],
      "execution_count": null,
      "outputs": []
    },
    {
      "cell_type": "code",
      "metadata": {
        "id": "UdmPCQIIWNoY"
      },
      "source": [
        "%autoreload 2\n",
        "\n",
        "from process_xml import *\n",
        "from alignment_metrics import *\n",
        "from em_models import *"
      ],
      "execution_count": null,
      "outputs": []
    },
    {
      "cell_type": "markdown",
      "metadata": {
        "id": "NdpSUsUzai9w"
      },
      "source": [
        "## Download files"
      ]
    },
    {
      "cell_type": "code",
      "metadata": {
        "colab": {
          "base_uri": "https://localhost:8080/"
        },
        "id": "4Hu__Av4I3ly",
        "outputId": "685f5230-0abd-4b9a-e59c-fc8bc1f0fb6e"
      },
      "source": [
        "! wget --no-check-certificate --content-disposition https://github.com/esokolov/ml-course-hse/blob/master/2020-spring/homeworks-practice/homework-practice-09-em/L.npy?raw=true\n",
        "! wget --no-check-certificate --content-disposition https://github.com/esokolov/ml-course-hse/blob/master/2020-spring/homeworks-practice/homework-practice-09-em/y.npy?raw=true"
      ],
      "execution_count": null,
      "outputs": [
        {
          "output_type": "stream",
          "text": [
            "--2021-03-11 12:00:23--  https://github.com/esokolov/ml-course-hse/blob/master/2020-spring/homeworks-practice/homework-practice-09-em/L.npy?raw=true\n",
            "Resolving github.com (github.com)... 140.82.114.3\n",
            "Connecting to github.com (github.com)|140.82.114.3|:443... connected.\n",
            "HTTP request sent, awaiting response... 302 Found\n",
            "Location: https://github.com/esokolov/ml-course-hse/raw/master/2020-spring/homeworks-practice/homework-practice-09-em/L.npy [following]\n",
            "--2021-03-11 12:00:23--  https://github.com/esokolov/ml-course-hse/raw/master/2020-spring/homeworks-practice/homework-practice-09-em/L.npy\n",
            "Reusing existing connection to github.com:443.\n",
            "HTTP request sent, awaiting response... 302 Found\n",
            "Location: https://raw.githubusercontent.com/esokolov/ml-course-hse/master/2020-spring/homeworks-practice/homework-practice-09-em/L.npy [following]\n",
            "--2021-03-11 12:00:23--  https://raw.githubusercontent.com/esokolov/ml-course-hse/master/2020-spring/homeworks-practice/homework-practice-09-em/L.npy\n",
            "Resolving raw.githubusercontent.com (raw.githubusercontent.com)... 185.199.108.133, 185.199.109.133, 185.199.110.133, ...\n",
            "Connecting to raw.githubusercontent.com (raw.githubusercontent.com)|185.199.108.133|:443... connected.\n",
            "HTTP request sent, awaiting response... 200 OK\n",
            "Length: 320128 (313K) [application/octet-stream]\n",
            "Saving to: ‘L.npy’\n",
            "\n",
            "L.npy               100%[===================>] 312.62K  --.-KB/s    in 0.04s   \n",
            "\n",
            "2021-03-11 12:00:23 (7.88 MB/s) - ‘L.npy’ saved [320128/320128]\n",
            "\n",
            "--2021-03-11 12:00:23--  https://github.com/esokolov/ml-course-hse/blob/master/2020-spring/homeworks-practice/homework-practice-09-em/y.npy?raw=true\n",
            "Resolving github.com (github.com)... 140.82.113.4\n",
            "Connecting to github.com (github.com)|140.82.113.4|:443... connected.\n",
            "HTTP request sent, awaiting response... 302 Found\n",
            "Location: https://github.com/esokolov/ml-course-hse/raw/master/2020-spring/homeworks-practice/homework-practice-09-em/y.npy [following]\n",
            "--2021-03-11 12:00:24--  https://github.com/esokolov/ml-course-hse/raw/master/2020-spring/homeworks-practice/homework-practice-09-em/y.npy\n",
            "Reusing existing connection to github.com:443.\n",
            "HTTP request sent, awaiting response... 302 Found\n",
            "Location: https://raw.githubusercontent.com/esokolov/ml-course-hse/master/2020-spring/homeworks-practice/homework-practice-09-em/y.npy [following]\n",
            "--2021-03-11 12:00:24--  https://raw.githubusercontent.com/esokolov/ml-course-hse/master/2020-spring/homeworks-practice/homework-practice-09-em/y.npy\n",
            "Resolving raw.githubusercontent.com (raw.githubusercontent.com)... 185.199.108.133, 185.199.109.133, 185.199.110.133, ...\n",
            "Connecting to raw.githubusercontent.com (raw.githubusercontent.com)|185.199.108.133|:443... connected.\n",
            "HTTP request sent, awaiting response... 200 OK\n",
            "Length: 16128 (16K) [application/octet-stream]\n",
            "Saving to: ‘y.npy’\n",
            "\n",
            "y.npy               100%[===================>]  15.75K  --.-KB/s    in 0s      \n",
            "\n",
            "2021-03-11 12:00:24 (96.4 MB/s) - ‘y.npy’ saved [16128/16128]\n",
            "\n"
          ],
          "name": "stdout"
        }
      ]
    },
    {
      "cell_type": "markdown",
      "metadata": {
        "id": "zjx_-NGgEsli"
      },
      "source": [
        "# Word Alignment"
      ]
    },
    {
      "cell_type": "code",
      "metadata": {
        "id": "orraEz-bEslj",
        "colab": {
          "base_uri": "https://localhost:8080/"
        },
        "outputId": "67807f8c-4f3b-4647-b4bf-d69d68d18b7f"
      },
      "source": [
        "%%bash\n",
        "wget -q https://lindat.mff.cuni.cz/repository/xmlui/bitstream/handle/11234/1-1804/CzEnAli_1.0.tar.gz -O CzEnAli_1.0.tar.gz\n",
        "mkdir -p data\n",
        "tar -xzf CzEnAli_1.0.tar.gz -C data/\n",
        "head -n 20 data/merged_data/project_syndicate/project_syndicate_bacchetta1.wa"
      ],
      "execution_count": null,
      "outputs": [
        {
          "output_type": "stream",
          "text": [
            "<?xml version=\"1.0\" encoding=\"utf-8\" ?>\n",
            "<sentences>\n",
            "<s id=\"project_syndicate_bacchetta1-s1\">\r\n",
            "  <english>Are the Dollar 's Days Numbered ?</english>\n",
            "  <czech>Jsou dny dolaru sečteny ?</czech>\n",
            "  <sure>1-1 3-3 5-2 6-4 7-5</sure>\n",
            "  <possible>2-2 4-3</possible>\n",
            "</s>\n",
            "<s id=\"project_syndicate_bacchetta1-s2\">\r\n",
            "  <english>Philippe Bacchetta and Eric van Wincoop</english>\n",
            "  <czech>Philippe Bacchetta and Eric van Wincoop</czech>\n",
            "  <sure>1-1 2-2 3-3 4-4 5-5 6-6</sure>\n",
            "  <possible></possible>\n",
            "</s>\n",
            "<s id=\"project_syndicate_bacchetta1-s3\">\r\n",
            "  <english>A year ago , the dollar bestrode the world like a colossus .</english>\n",
            "  <czech>Ještě před rokem dolar dominoval světu jako imperátor .</czech>\n",
            "  <sure>10-7 12-8 13-9 2-3 3-2 6-4 7-5 9-6</sure>\n",
            "  <possible>1-3 11-8 3-1 5-4 8-6</possible>\n",
            "</s>\n"
          ],
          "name": "stdout"
        }
      ]
    },
    {
      "cell_type": "markdown",
      "metadata": {
        "id": "CuJCd9FZEslk"
      },
      "source": [
        "## Extracting sentences\n",
        " Let's write a function that takes a path to an XML file with alignments and outputs a list of parallel sentences.\n"
      ]
    },
    {
      "cell_type": "code",
      "metadata": {
        "id": "GyZWJ3xPEsll",
        "colab": {
          "base_uri": "https://localhost:8080/"
        },
        "outputId": "989fcd82-9775-4272-f4b9-ff3c61de78ef"
      },
      "source": [
        "all_sentences = []\n",
        "all_targets = []\n",
        "\n",
        "for path, subdirs, files in os.walk('./data/data'):\n",
        "    for name in files:\n",
        "        cur_file = os.path.join(path, name)\n",
        "        cur_sentences, cur_targets = extract_sentences(cur_file)\n",
        "\n",
        "        all_sentences += cur_sentences\n",
        "        all_targets += cur_targets\n",
        "\n",
        "len(all_sentences)"
      ],
      "execution_count": null,
      "outputs": [
        {
          "output_type": "execute_result",
          "data": {
            "text/plain": [
              "5002"
            ]
          },
          "metadata": {
            "tags": []
          },
          "execution_count": 7
        }
      ]
    },
    {
      "cell_type": "markdown",
      "metadata": {
        "id": "QqLw3rNgEsll"
      },
      "source": [
        "## Tokenization\n",
        " Now let's tokenize the words."
      ]
    },
    {
      "cell_type": "code",
      "metadata": {
        "id": "XCHuugi6Eslm"
      },
      "source": [
        "t_idx_src, t_idx_tgt = get_token_to_index(all_sentences)\n",
        "tokenized_sentences = tokenize_sents(all_sentences, t_idx_src, t_idx_tgt)"
      ],
      "execution_count": null,
      "outputs": []
    },
    {
      "cell_type": "code",
      "metadata": {
        "id": "YAB2aiu9Eslm"
      },
      "source": [
        "baseline = DiceAligner(len(t_idx_src), len(t_idx_tgt), threshold=0.01)\n",
        "baseline.fit(tokenized_sentences)"
      ],
      "execution_count": null,
      "outputs": []
    },
    {
      "cell_type": "markdown",
      "metadata": {
        "id": "jecGJKLKEsln"
      },
      "source": [
        "## Metrics\n",
        " We will need specific scoring functions to measure the effectiveness of our models. Let's use AER (Alignment Error Rate)"
      ]
    },
    {
      "cell_type": "code",
      "metadata": {
        "id": "qmKfa1aYEsln",
        "colab": {
          "base_uri": "https://localhost:8080/"
        },
        "outputId": "5abe541a-e833-4f90-9970-9c6680a46b54"
      },
      "source": [
        "compute_aer(all_targets, baseline.align(tokenized_sentences))"
      ],
      "execution_count": null,
      "outputs": [
        {
          "output_type": "execute_result",
          "data": {
            "text/plain": [
              "0.8135630370634345"
            ]
          },
          "metadata": {
            "tags": []
          },
          "execution_count": 52
        }
      ]
    },
    {
      "cell_type": "markdown",
      "metadata": {
        "id": "_kjIHHdGbQhu"
      },
      "source": [
        "AER score examples:"
      ]
    },
    {
      "cell_type": "markdown",
      "metadata": {
        "id": "JMqLnONUcfDH"
      },
      "source": [
        "![](https://www.researchgate.net/profile/Hermann-Ney/publication/2807338/figure/tbl1/AS:669566984265759@1536648617935/Alignment-error-rate-AER-of-ditlrent-alignment-models-tbr-the-translations.png)\n",
        "\n",
        "https://www.researchgate.net/figure/Alignment-error-rate-AER-of-ditlrent-alignment-models-tbr-the-translations_tbl1_2807338"
      ]
    },
    {
      "cell_type": "markdown",
      "metadata": {
        "id": "XF72T9SbEslo"
      },
      "source": [
        "## EM equations\n"
      ]
    },
    {
      "cell_type": "markdown",
      "metadata": {
        "id": "wqKNokA72VjI"
      },
      "source": [
        "Sources:\n",
        "\n",
        "\n",
        "1.   http://citeseerx.ist.psu.edu/viewdoc/download?doi=10.1.1.421.5497&rep=rep1&type=pdf\n",
        "2.   https://www.cs.jhu.edu/~jason/665/PowerPoint/lect32a-mt-word-based-models.pdf\n",
        "3.   http://www.cs.cmu.edu/afs/cs/user/tbergkir/www/11711fa17/recitation10_slides.pdf\n",
        "4.   http://citeseerx.ist.psu.edu/viewdoc/download?doi=10.1.1.421.5497&rep=rep1&type=pdf\n",
        "5.   https://www.kaggle.com/garbo999/machine-translation-ibm-model-1-em-algorithm\n",
        "\n"
      ]
    },
    {
      "cell_type": "markdown",
      "metadata": {
        "id": "WIOgreiojug3"
      },
      "source": [
        "**E-step:**\n",
        "$$ \n",
        "p(A | T, S, \\theta) = \\frac{p(T, A | S, \\theta)}{p(T | S, \\theta)} = \\prod_{i=1}^m \\frac{p(t_i, a_i | S, \\theta)}{p(t_i | S, \\theta)}\n",
        "$$\n",
        "\n",
        "$$\n",
        "p(a_i | T, S, \\theta) = \\frac{p(t_i, a_i | S, \\theta)}{p(t_i | S, \\theta)}\n",
        "=  \\frac{p(a_i)\\theta(t_i | s_{a_i})}{\\sum_{j=1}^{n} p(a_j)\\theta(t_i | s_{a_j})}\n",
        "$$\n",
        "\n",
        "$$\n",
        "q_{t_k, s_p}^* = \\sum_{t_i, s_j \\in T, S} [t_i = t_k][s_j=s_p][a_i=j]p(a_i | T, S, \\theta)\n",
        "$$\n",
        "\n",
        "$$\n",
        "q_{t_k, s_p}^* = \\frac{\\theta(t_k|s_p)}{\\sum_{s_i \\in S} \\theta(t_k|s_i)}\n",
        "$$\n"
      ]
    },
    {
      "cell_type": "markdown",
      "metadata": {
        "id": "rVCdT2PXtwrh"
      },
      "source": [
        "**M-step:**\n",
        "$$\n",
        "\\ln p(A, T | S) = \\sum_{t_i \\in T} \\ln \\theta(t_i, s_j) - \\ln n\n",
        "$$\n",
        "$$\n",
        "E \\ln p(A, T | S) = \\sum_{s_j \\in S} \\frac{\\theta(t_i|s_p)}{\\sum_{s_p \\in S} \\theta(t_i|s_p)} \\sum_{t_i \\in T} \\ln \\theta(t_i | s_j) - \\ln n = \\sum_{s_j \\in S}  \\sum_{t_i \\in T} q_{t_i, s_j} (\\theta(t_i | s_j) - \\ln n)\n",
        "$$ \n",
        "\n",
        "\n",
        "$$\n",
        "Q = \\sum_{s_j \\in S}  \\sum_{t_i \\in T} q^*_{t_i, s_j} (\\theta(t_i | s_j) - \\ln n) - \\sum_{s_j \\in S}  \\sum_{t_i \\in T}  \\lambda_{s_j} \\theta(t_i | s_j) \n",
        "$$\n",
        "\n",
        "$$\n",
        "Q' = \\sum_{s_j \\in S}  \\sum_{t_i \\in T} \\frac{q^*_{t_i, s_j}}{\\theta(t_i | s_j) } - \\lambda_{s_j},\\ \\lambda_{s_j} = \\sum_{t_i \\in T} \\frac{q^*_{t_i, s_j}}{\\theta(t_i | s_j) } = \\sum_{t_i \\in T} q^*_{t_i,s_j}\n",
        "$$\n",
        "\n",
        "$$\n",
        "\\theta^{new}(t_i, s_j) = \\frac{q^*_{t_i,s_j}}{\\sum_{t_k \\in T} q^*_{t_k,s_j}}\n",
        "$$"
      ]
    },
    {
      "cell_type": "markdown",
      "metadata": {
        "id": "Z12uO66u4314"
      },
      "source": [
        "**ELBO:**\n",
        "$$\n",
        "\\ln p(A, T | S) = \\sum_{s_j \\in S} \\ln \\theta(t_i, s_j) - \\ln n\n",
        "$$\n",
        "Cross entropy:\n",
        "\n",
        "$$\n",
        "\\text{ELBO} = \\sum_{t_j \\in T}\\sum_{s_j \\in S}  q^*_{t_i,s_j} \\big[ \\ln \\frac{\\theta(t_i, s_j)}{q^*_{t_i,s_j}} -  \\frac{\\ln n}{q^*_{t_i,s_j}} \\big]\n",
        "$$\n",
        "$$\n",
        "\\text{ELBO} = \\sum_{t_j \\in T}\\sum_{s_j \\in S}  q^*_{t_i,s_j} \\ln \\theta(t_i, s_j) - q^*_{t_i,s_j} \\ln n - q^*_{t_i,s_j} \\ln q^*_{t_i,s_j}\n",
        "$$"
      ]
    },
    {
      "cell_type": "markdown",
      "metadata": {
        "id": "ILVxm8fPEslo"
      },
      "source": [
        "## The algorithm itself\n",
        " And now we can finally create a WordAligner class."
      ]
    },
    {
      "cell_type": "code",
      "metadata": {
        "id": "ltwLmb7jEslp",
        "colab": {
          "base_uri": "https://localhost:8080/"
        },
        "outputId": "db52f883-b51d-48cb-efa0-62b97ee2b557"
      },
      "source": [
        "word_aligner = WordAligner(len(t_idx_src), len(t_idx_tgt), 10)\n",
        "hist = word_aligner.fit(tokenized_sentences);"
      ],
      "execution_count": null,
      "outputs": [
        {
          "output_type": "stream",
          "text": [
            "Iter 0, Time elapsed 0.000;\n",
            "Iter 1, Time elapsed 1.027;\n",
            "Iter 2, Time elapsed 2.043;\n",
            "Iter 3, Time elapsed 3.054;\n",
            "Iter 4, Time elapsed 4.051;\n",
            "Iter 5, Time elapsed 5.073;\n",
            "Iter 6, Time elapsed 6.069;\n",
            "Iter 7, Time elapsed 7.062;\n",
            "Iter 8, Time elapsed 8.055;\n",
            "Iter 9, Time elapsed 9.059;\n"
          ],
          "name": "stdout"
        }
      ]
    },
    {
      "cell_type": "code",
      "metadata": {
        "colab": {
          "base_uri": "https://localhost:8080/"
        },
        "id": "L0B3tNDKblDp",
        "outputId": "55eff464-da37-4492-9650-e96ad45b1902"
      },
      "source": [
        "compute_aer(all_targets, word_aligner.align(tokenized_sentences))"
      ],
      "execution_count": null,
      "outputs": [
        {
          "output_type": "execute_result",
          "data": {
            "text/plain": [
              "0.5838807543815219"
            ]
          },
          "metadata": {
            "tags": []
          },
          "execution_count": 22
        }
      ]
    },
    {
      "cell_type": "markdown",
      "metadata": {
        "id": "Igv030LQEslp"
      },
      "source": [
        "Let's see how our algorithm translates specific words:"
      ]
    },
    {
      "cell_type": "code",
      "metadata": {
        "id": "hHIL6KUcEslp"
      },
      "source": [
        "idx_token_tgt = {index:token for token, index in t_idx_tgt.items()}"
      ],
      "execution_count": null,
      "outputs": []
    },
    {
      "cell_type": "code",
      "metadata": {
        "id": "qlDzeFOdEslq",
        "colab": {
          "base_uri": "https://localhost:8080/"
        },
        "outputId": "7b0fb1da-c884-4048-9c53-56c40dc085d7"
      },
      "source": [
        "[idx_token_tgt[i] for i in word_aligner.translation_probs[t_idx_src['Mr']].argsort()[-3:]]"
      ],
      "execution_count": null,
      "outputs": [
        {
          "output_type": "execute_result",
          "data": {
            "text/plain": [
              "[',', 'řekl', 'pan']"
            ]
          },
          "metadata": {
            "tags": []
          },
          "execution_count": 26
        }
      ]
    },
    {
      "cell_type": "code",
      "metadata": {
        "id": "CWDGfL2NEslq",
        "colab": {
          "base_uri": "https://localhost:8080/"
        },
        "outputId": "c8f8a55e-582e-4701-dc14-836e1319ec2f"
      },
      "source": [
        "[idx_token_tgt[i] for i in word_aligner.translation_probs[t_idx_src['Mrs']].argsort()[-3:]]"
      ],
      "execution_count": null,
      "outputs": [
        {
          "output_type": "execute_result",
          "data": {
            "text/plain": [
              "['-', 'Mannová', 'paní']"
            ]
          },
          "metadata": {
            "tags": []
          },
          "execution_count": 27
        }
      ]
    },
    {
      "cell_type": "code",
      "metadata": {
        "scrolled": true,
        "id": "PT4hQZRcEslq",
        "colab": {
          "base_uri": "https://localhost:8080/"
        },
        "outputId": "fa69940a-10e5-4727-dd16-fd894d94cd57"
      },
      "source": [
        "[idx_token_tgt[i] for i in word_aligner.translation_probs[t_idx_src['water']].argsort()[-3:]]"
      ],
      "execution_count": null,
      "outputs": [
        {
          "output_type": "execute_result",
          "data": {
            "text/plain": [
              "['z', 'pro', 'vody']"
            ]
          },
          "metadata": {
            "tags": []
          },
          "execution_count": 28
        }
      ]
    },
    {
      "cell_type": "code",
      "metadata": {
        "id": "Kfy8mtpZEslq",
        "colab": {
          "base_uri": "https://localhost:8080/"
        },
        "outputId": "dd3fda58-25d1-4377-e5a9-bb052f69b50f"
      },
      "source": [
        "[idx_token_tgt[i] for i in word_aligner.translation_probs[t_idx_src['depended']].argsort()[-3:]]"
      ],
      "execution_count": null,
      "outputs": [
        {
          "output_type": "execute_result",
          "data": {
            "text/plain": [
              "['překupničením', 'koni', 'záviselo']"
            ]
          },
          "metadata": {
            "tags": []
          },
          "execution_count": 29
        }
      ]
    },
    {
      "cell_type": "code",
      "metadata": {
        "id": "nO_pmb7HEslr",
        "colab": {
          "base_uri": "https://localhost:8080/"
        },
        "outputId": "df6ad97b-4ea6-4de2-ca50-42b16cdbafde"
      },
      "source": [
        "[idx_token_tgt[i] for i in word_aligner.translation_probs[t_idx_src['on']].argsort()[-3:]]"
      ],
      "execution_count": null,
      "outputs": [
        {
          "output_type": "execute_result",
          "data": {
            "text/plain": [
              "['se', '.', 'na']"
            ]
          },
          "metadata": {
            "tags": []
          },
          "execution_count": 30
        }
      ]
    },
    {
      "cell_type": "markdown",
      "metadata": {
        "id": "CNPTWSZ8Esls"
      },
      "source": [
        "## Visualization\n",
        " We can draw a heatmap visualizing how the words are aligned in a specific sentence."
      ]
    },
    {
      "cell_type": "code",
      "metadata": {
        "id": "wEQ69j-BEsls"
      },
      "source": [
        "text = tokenized_sentences[:1]\n",
        "eng = tokenized_sentences[0].source_tokens\n",
        "cz = tokenized_sentences[0].target_tokens\n",
        "alignment = word_aligner.align(text)[0]\n",
        "\n",
        "matr = np.zeros((len(eng), len(cz)))\n",
        "\n",
        "for j, k in alignment:\n",
        "    matr[j - 1][k - 1] = 1\n",
        "\n",
        "eng = [idx_token_src[i] for i in eng]\n",
        "cz = [idx_token_tgt[i] for i in cz]"
      ],
      "execution_count": null,
      "outputs": []
    },
    {
      "cell_type": "code",
      "metadata": {
        "colab": {
          "base_uri": "https://localhost:8080/",
          "height": 585
        },
        "id": "G4SnP_Xrc7fy",
        "outputId": "2b975404-2b79-4d9f-af42-a2c14b23898d"
      },
      "source": [
        "fig, ax = plt.subplots(figsize=(10, 8))\n",
        "ax = sns.heatmap(matr, cbar=False, cmap='mako')\n",
        "\n",
        "ax.set_xticks(np.arange(len(cz)))\n",
        "ax.set_yticks(np.arange(len(eng)))\n",
        "ax.set_xticklabels(cz)\n",
        "ax.set_yticklabels(eng)\n",
        "\n",
        "plt.setp(ax.get_xticklabels(), rotation=45, ha=\"right\",\n",
        "         rotation_mode=\"anchor\")\n",
        "\n",
        "plt.setp(ax.get_yticklabels(), rotation=0, ha=\"right\",\n",
        "         rotation_mode=\"anchor\")\n",
        "\n",
        "ax.set_title(\"Alignment\")\n",
        "fig.tight_layout()\n",
        "plt.show()"
      ],
      "execution_count": null,
      "outputs": [
        {
          "output_type": "display_data",
          "data": {
            "image/png": "[encoded data removed]",
            "text/plain": [
              "<Figure size 720x576 with 1 Axes>"
            ]
          },
          "metadata": {
            "tags": [],
            "needs_background": "light"
          }
        }
      ]
    },
    {
      "cell_type": "code",
      "metadata": {
        "colab": {
          "base_uri": "https://localhost:8080/",
          "height": 585
        },
        "id": "WLu3trJhbvQp",
        "outputId": "ed4e93d5-da91-4408-ecb1-8c710168cfd2"
      },
      "source": [
        "distr = word_aligner._e_step(text)[0]\n",
        "\n",
        "fig, ax = plt.subplots(figsize=(12, 8))\n",
        "ax = sns.heatmap(distr, cbar=True, cmap='mako')\n",
        "\n",
        "ax.set_xticks(np.arange(len(cz)))\n",
        "ax.set_yticks(np.arange(len(eng)))\n",
        "ax.set_xticklabels(cz)\n",
        "ax.set_yticklabels(eng)\n",
        "\n",
        "plt.setp(ax.get_xticklabels(), rotation=45, ha=\"right\",\n",
        "         rotation_mode=\"anchor\")\n",
        "\n",
        "plt.setp(ax.get_yticklabels(), rotation=0, ha=\"right\",\n",
        "         rotation_mode=\"anchor\")\n",
        "\n",
        "ax.set_title(\"Distribution\")\n",
        "fig.tight_layout()\n",
        "plt.show()"
      ],
      "execution_count": null,
      "outputs": [
        {
          "output_type": "display_data",
          "data": {
            "image/png": "[encoded data removed]",
            "text/plain": [
              "<Figure size 864x576 with 2 Axes>"
            ]
          },
          "metadata": {
            "tags": [],
            "needs_background": "light"
          }
        }
      ]
    },
    {
      "cell_type": "markdown",
      "metadata": {
        "id": "jYGGVb1Wf4kY"
      },
      "source": [
        "The model is most confident in the alignments on the diagonal and at the end of the English sentence (since it is shorter than the Czech one). The algorithm works well with proper nouns. But we can also notice that if a pair of words is often used together, the algorithm will not be sure which one corresponds to which (this can be seen on the heatmap, there are many monotone 2x2 squares)."
      ]
    }
  ]
}